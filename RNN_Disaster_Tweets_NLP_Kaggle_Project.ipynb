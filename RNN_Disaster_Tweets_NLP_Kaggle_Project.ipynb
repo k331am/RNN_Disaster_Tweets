{
 "cells": [
  {
   "cell_type": "markdown",
   "metadata": {},
   "source": [
    "# __RNN NLP Disaster Tweets Kaggle Project__"
   ]
  },
  {
   "cell_type": "markdown",
   "metadata": {},
   "source": [
    "## The Problem\n",
    "\n",
    "The Purpose of this project is to create an algorithm capable of classifying whether or not a \"tweet\" is referring to the occurrance of an actual, real life disaster or not, utilizing Recurrent Neural Networks via tensorflow. This could be potentially very useful for noticing and recognizing disasters via the accounts firsthand witnesses through social media platforms such as twitter."
   ]
  },
  {
   "cell_type": "markdown",
   "metadata": {},
   "source": [
    "Below are the libraries that I used"
   ]
  },
  {
   "cell_type": "code",
   "execution_count": 251,
   "metadata": {},
   "outputs": [
    {
     "name": "stderr",
     "output_type": "stream",
     "text": [
      "[nltk_data] Downloading package stopwords to\n",
      "[nltk_data]     C:\\Users\\Angel\\AppData\\Roaming\\nltk_data...\n",
      "[nltk_data]   Package stopwords is already up-to-date!\n",
      "[nltk_data] Downloading package punkt to\n",
      "[nltk_data]     C:\\Users\\Angel\\AppData\\Roaming\\nltk_data...\n",
      "[nltk_data]   Package punkt is already up-to-date!\n"
     ]
    }
   ],
   "source": [
    "import os\n",
    "import re\n",
    "import numpy as np\n",
    "import pandas as pd\n",
    "import tensorflow as tf\n",
    "import matplotlib.pyplot as plt\n",
    "from tensorflow.keras.optimizers import Adam\n",
    "from tensorflow.keras.preprocessing.text import Tokenizer\n",
    "from tensorflow.keras.preprocessing.sequence import pad_sequences\n",
    "from tensorflow.keras.models import Sequential\n",
    "from tensorflow.keras.layers import Embedding,LSTM, Dense,Bidirectional\n",
    "import nltk\n",
    "nltk.download(\"stopwords\")\n",
    "nltk.download('punkt')\n",
    "from nltk.corpus import stopwords\n",
    "from nltk.tokenize import word_tokenize"
   ]
  },
  {
   "cell_type": "markdown",
   "metadata": {},
   "source": [
    "Cell below checks"
   ]
  },
  {
   "cell_type": "code",
   "execution_count": 252,
   "metadata": {},
   "outputs": [
    {
     "name": "stdout",
     "output_type": "stream",
     "text": [
      "[PhysicalDevice(name='/physical_device:GPU:0', device_type='GPU')]\n"
     ]
    }
   ],
   "source": [
    "# Check to ensure that GPU acceleration is working properly\n",
    "print(tf.config.list_physical_devices('GPU'))"
   ]
  },
  {
   "cell_type": "markdown",
   "metadata": {},
   "source": [
    "## __The Data__\n",
    "\n",
    "The training data available this problem is a table containing information for 7613 tweets. Each row contains an entry pertaining to: \n",
    "- \"id\", the unique tweet ID\n",
    "- \"keyword\", a keyword from that tweet (if applicable)\n",
    "- \"location\", the location of that tweet (if applicable)\n",
    "- \"text\", the text contained within that tweet \n",
    "- \"target\", whether or not that tweet is classified as referencing a disaster (1) or not (0)\n",
    "\n",
    "The test data provided has the same for 3263 tweets, except for \"target\" "
   ]
  },
  {
   "cell_type": "code",
   "execution_count": 253,
   "metadata": {},
   "outputs": [],
   "source": [
    "data_dir = \"A:/RNN_project/dataset/\"\n",
    "train_file = data_dir + \"train.csv\"\n",
    "test_file = data_dir + \"test.csv\"\n",
    "\n",
    "test = pd.read_csv(test_file)\n",
    "train = pd.read_csv(train_file)"
   ]
  },
  {
   "cell_type": "code",
   "execution_count": 254,
   "metadata": {},
   "outputs": [
    {
     "data": {
      "text/html": [
       "<div>\n",
       "<style scoped>\n",
       "    .dataframe tbody tr th:only-of-type {\n",
       "        vertical-align: middle;\n",
       "    }\n",
       "\n",
       "    .dataframe tbody tr th {\n",
       "        vertical-align: top;\n",
       "    }\n",
       "\n",
       "    .dataframe thead th {\n",
       "        text-align: right;\n",
       "    }\n",
       "</style>\n",
       "<table border=\"1\" class=\"dataframe\">\n",
       "  <thead>\n",
       "    <tr style=\"text-align: right;\">\n",
       "      <th></th>\n",
       "      <th>id</th>\n",
       "      <th>keyword</th>\n",
       "      <th>location</th>\n",
       "      <th>text</th>\n",
       "      <th>target</th>\n",
       "    </tr>\n",
       "  </thead>\n",
       "  <tbody>\n",
       "    <tr>\n",
       "      <th>0</th>\n",
       "      <td>1</td>\n",
       "      <td>NaN</td>\n",
       "      <td>NaN</td>\n",
       "      <td>Our Deeds are the Reason of this #earthquake M...</td>\n",
       "      <td>1</td>\n",
       "    </tr>\n",
       "    <tr>\n",
       "      <th>1</th>\n",
       "      <td>4</td>\n",
       "      <td>NaN</td>\n",
       "      <td>NaN</td>\n",
       "      <td>Forest fire near La Ronge Sask. Canada</td>\n",
       "      <td>1</td>\n",
       "    </tr>\n",
       "    <tr>\n",
       "      <th>2</th>\n",
       "      <td>5</td>\n",
       "      <td>NaN</td>\n",
       "      <td>NaN</td>\n",
       "      <td>All residents asked to 'shelter in place' are ...</td>\n",
       "      <td>1</td>\n",
       "    </tr>\n",
       "    <tr>\n",
       "      <th>3</th>\n",
       "      <td>6</td>\n",
       "      <td>NaN</td>\n",
       "      <td>NaN</td>\n",
       "      <td>13,000 people receive #wildfires evacuation or...</td>\n",
       "      <td>1</td>\n",
       "    </tr>\n",
       "    <tr>\n",
       "      <th>4</th>\n",
       "      <td>7</td>\n",
       "      <td>NaN</td>\n",
       "      <td>NaN</td>\n",
       "      <td>Just got sent this photo from Ruby #Alaska as ...</td>\n",
       "      <td>1</td>\n",
       "    </tr>\n",
       "  </tbody>\n",
       "</table>\n",
       "</div>"
      ],
      "text/plain": [
       "   id keyword location                                               text  \\\n",
       "0   1     NaN      NaN  Our Deeds are the Reason of this #earthquake M...   \n",
       "1   4     NaN      NaN             Forest fire near La Ronge Sask. Canada   \n",
       "2   5     NaN      NaN  All residents asked to 'shelter in place' are ...   \n",
       "3   6     NaN      NaN  13,000 people receive #wildfires evacuation or...   \n",
       "4   7     NaN      NaN  Just got sent this photo from Ruby #Alaska as ...   \n",
       "\n",
       "   target  \n",
       "0       1  \n",
       "1       1  \n",
       "2       1  \n",
       "3       1  \n",
       "4       1  "
      ]
     },
     "execution_count": 254,
     "metadata": {},
     "output_type": "execute_result"
    }
   ],
   "source": [
    "train.head()"
   ]
  },
  {
   "cell_type": "code",
   "execution_count": 255,
   "metadata": {},
   "outputs": [
    {
     "data": {
      "text/html": [
       "<div>\n",
       "<style scoped>\n",
       "    .dataframe tbody tr th:only-of-type {\n",
       "        vertical-align: middle;\n",
       "    }\n",
       "\n",
       "    .dataframe tbody tr th {\n",
       "        vertical-align: top;\n",
       "    }\n",
       "\n",
       "    .dataframe thead th {\n",
       "        text-align: right;\n",
       "    }\n",
       "</style>\n",
       "<table border=\"1\" class=\"dataframe\">\n",
       "  <thead>\n",
       "    <tr style=\"text-align: right;\">\n",
       "      <th></th>\n",
       "      <th>id</th>\n",
       "      <th>keyword</th>\n",
       "      <th>location</th>\n",
       "      <th>text</th>\n",
       "    </tr>\n",
       "  </thead>\n",
       "  <tbody>\n",
       "    <tr>\n",
       "      <th>0</th>\n",
       "      <td>0</td>\n",
       "      <td>NaN</td>\n",
       "      <td>NaN</td>\n",
       "      <td>Just happened a terrible car crash</td>\n",
       "    </tr>\n",
       "    <tr>\n",
       "      <th>1</th>\n",
       "      <td>2</td>\n",
       "      <td>NaN</td>\n",
       "      <td>NaN</td>\n",
       "      <td>Heard about #earthquake is different cities, s...</td>\n",
       "    </tr>\n",
       "    <tr>\n",
       "      <th>2</th>\n",
       "      <td>3</td>\n",
       "      <td>NaN</td>\n",
       "      <td>NaN</td>\n",
       "      <td>there is a forest fire at spot pond, geese are...</td>\n",
       "    </tr>\n",
       "    <tr>\n",
       "      <th>3</th>\n",
       "      <td>9</td>\n",
       "      <td>NaN</td>\n",
       "      <td>NaN</td>\n",
       "      <td>Apocalypse lighting. #Spokane #wildfires</td>\n",
       "    </tr>\n",
       "    <tr>\n",
       "      <th>4</th>\n",
       "      <td>11</td>\n",
       "      <td>NaN</td>\n",
       "      <td>NaN</td>\n",
       "      <td>Typhoon Soudelor kills 28 in China and Taiwan</td>\n",
       "    </tr>\n",
       "  </tbody>\n",
       "</table>\n",
       "</div>"
      ],
      "text/plain": [
       "   id keyword location                                               text\n",
       "0   0     NaN      NaN                 Just happened a terrible car crash\n",
       "1   2     NaN      NaN  Heard about #earthquake is different cities, s...\n",
       "2   3     NaN      NaN  there is a forest fire at spot pond, geese are...\n",
       "3   9     NaN      NaN           Apocalypse lighting. #Spokane #wildfires\n",
       "4  11     NaN      NaN      Typhoon Soudelor kills 28 in China and Taiwan"
      ]
     },
     "execution_count": 255,
     "metadata": {},
     "output_type": "execute_result"
    }
   ],
   "source": [
    "test.head()"
   ]
  },
  {
   "cell_type": "markdown",
   "metadata": {},
   "source": [
    "## __Exploratory Data Analysis and Feature Engineering__"
   ]
  },
  {
   "cell_type": "markdown",
   "metadata": {},
   "source": [
    "The EDA for this project focuses on figuring out some features and distributions that could help when choosing certain hyperparameters for the model. \n",
    "\n",
    "This section also focuses on removing/modifying particular features that could become noise to the model, this includes:\n",
    "\n",
    "-The randomized strings within URLs\n",
    "-special characters, like punctuation (excluding # and @)\n",
    "-letter cases\n",
    "-stopwords\n",
    "\n",
    "Some further feature engineering is also employed, where keywords are injected into the tweets in the form of hashtags."
   ]
  },
  {
   "cell_type": "markdown",
   "metadata": {},
   "source": [
    "### __Distribution of counts__"
   ]
  },
  {
   "cell_type": "markdown",
   "metadata": {},
   "source": [
    "To start, let's look at the counts of the data"
   ]
  },
  {
   "cell_type": "code",
   "execution_count": 256,
   "metadata": {},
   "outputs": [
    {
     "name": "stdout",
     "output_type": "stream",
     "text": [
      "0    4342\n",
      "1    3271\n",
      "Name: target, dtype: int64\n"
     ]
    }
   ],
   "source": [
    "counts = train[\"target\"].value_counts()\n",
    "print(counts)"
   ]
  },
  {
   "cell_type": "markdown",
   "metadata": {},
   "source": [
    "These values are reasonable. If the difference between the two were too high, it may become difficult for our model to distinguish between things, and downsampling may have been necessary. However, this discrepency should be fine. Let's look a bit more into it."
   ]
  },
  {
   "cell_type": "code",
   "execution_count": 257,
   "metadata": {},
   "outputs": [
    {
     "data": {
      "text/plain": [
       "Text(0.5, 1.0, 'number of non-disaster & disaster tweets in training data\\npercentage 0: 57%, percentage 1: 43%')"
      ]
     },
     "execution_count": 257,
     "metadata": {},
     "output_type": "execute_result"
    },
    {
     "data": {
      "image/png": "[encoded data removed]",
      "text/plain": [
       "<Figure size 640x480 with 1 Axes>"
      ]
     },
     "metadata": {},
     "output_type": "display_data"
    }
   ],
   "source": [
    "plt.bar(counts.index,counts.values)\n",
    "plt.xticks([0,1])\n",
    "plt.xlabel(\"classification of training data\")\n",
    "plt.ylabel(\"counts\")\n",
    "plt.title(\"number of non-disaster & disaster tweets in training data\" +\"\\n\" + \\\n",
    "            \"percentage 0: {:.0f}%, percentage 1: {:.0f}%\"\\\n",
    "            .format(100*counts[0]/sum(counts),100*counts[1]/sum(counts)))\n",
    "\n",
    "#print(counts[0]/sum(counts))\n",
    "#plt.bar(,train[\"target\"].value_counts())"
   ]
  },
  {
   "cell_type": "markdown",
   "metadata": {},
   "source": [
    "Here, we see that non-disaster tweets make up about 57% of the data, with disaster tweets making up the remaining 43%.If we assume that the test data was randomly sampled from the same dataset, we can assume that it shares a similar distribution. Based on that assumption, a naive model that simply chooses 0 (the rounded average of the test data) for every text, would probably return around 57% for it's accuracy score. I had some spare submissions and was actually able to verify this.\n",
    "\n",
    "With that all being said, our score to beat is 57%. Next is looking at tweets' hyperlinks:"
   ]
  },
  {
   "cell_type": "markdown",
   "metadata": {},
   "source": [
    "### __URL Normalization__"
   ]
  },
  {
   "cell_type": "markdown",
   "metadata": {},
   "source": [
    "Below is a helper function made to count the number of hyperlinks within a string"
   ]
  },
  {
   "cell_type": "code",
   "execution_count": 258,
   "metadata": {},
   "outputs": [],
   "source": [
    "def count_hyper(text):\n",
    "    return text.count(\"http\")"
   ]
  },
  {
   "cell_type": "markdown",
   "metadata": {},
   "source": [
    "Below the number of hyperlinks are counted per string, and a visualization for the prevalence of hyperlink count based on the type of tweet is shown."
   ]
  },
  {
   "cell_type": "code",
   "execution_count": 259,
   "metadata": {},
   "outputs": [
    {
     "data": {
      "text/plain": [
       "Text(0, 0.5, 'counts')"
      ]
     },
     "execution_count": 259,
     "metadata": {},
     "output_type": "execute_result"
    },
    {
     "data": {
      "image/png": "[encoded data removed]",
      "text/plain": [
       "<Figure size 640x480 with 1 Axes>"
      ]
     },
     "metadata": {},
     "output_type": "display_data"
    }
   ],
   "source": [
    "#count hyperlinks\n",
    "train[\"num_hyperlinks\"] = train[\"text\"].apply(count_hyper)\n",
    "#groupby num_hyperlinks and target, take the size and unstack so it can be used with the bar plot\n",
    "groupedby = train.groupby([\"num_hyperlinks\",\"target\"]).size().unstack()\n",
    "groupedby.plot.bar()\n",
    "plt.title(\"number of hyperlinks per string, grouped by class\")\n",
    "plt.xlabel(\"number of hyperlinks\")\n",
    "plt.ylabel(\"counts\")"
   ]
  },
  {
   "cell_type": "markdown",
   "metadata": {},
   "source": [
    "Interestingly enough, the presence of hyperlinks does seem to be an important, distinguishing characteristic for disaster, and non-disaster tweets. That being said, the current URLs are not very usable by the model, as they contain a random string (Ex: http://t.co/zDtoyd8EbJ). What can be done with these is URL normalization, where each URL is replaced with a standard placeholder to represent the presence of a hyperlink. The below function does just that"
   ]
  },
  {
   "cell_type": "code",
   "execution_count": 260,
   "metadata": {},
   "outputs": [],
   "source": [
    "def standardize_url(text,placeholder):\n",
    "\n",
    "     std_text = re.sub(r'http\\S+',placeholder,text)\n",
    "    \n",
    "     return std_text"
   ]
  },
  {
   "cell_type": "markdown",
   "metadata": {},
   "source": [
    "Using \"urlhttp\" as the keyword, the training and test sets have their URLS standardized below"
   ]
  },
  {
   "cell_type": "code",
   "execution_count": 261,
   "metadata": {},
   "outputs": [
    {
     "data": {
      "text/plain": [
       "0                      Just happened a terrible car crash\n",
       "1       Heard about #earthquake is different cities, s...\n",
       "2       there is a forest fire at spot pond, geese are...\n",
       "3                Apocalypse lighting. #Spokane #wildfires\n",
       "4           Typhoon Soudelor kills 28 in China and Taiwan\n",
       "                              ...                        \n",
       "3258    EARTHQUAKE SAFETY LOS ANGELES ÛÒ SAFETY FASTE...\n",
       "3259    Storm in RI worse than last hurricane. My city...\n",
       "3260    Green Line derailment in Chicago http://t.co/U...\n",
       "3261    MEG issues Hazardous Weather Outlook (HWO) htt...\n",
       "3262    #CityofCalgary has activated its Municipal Eme...\n",
       "Name: text, Length: 3263, dtype: object"
      ]
     },
     "execution_count": 261,
     "metadata": {},
     "output_type": "execute_result"
    }
   ],
   "source": [
    "test[\"text\"]"
   ]
  },
  {
   "cell_type": "code",
   "execution_count": 262,
   "metadata": {},
   "outputs": [],
   "source": [
    "placeholder = \"urlhttp\"\n",
    "train['text_fixedurl'] = train[\"text\"].apply(lambda text : standardize_url(text,placeholder))\n",
    "test['text_fixedurl'] = test[\"text\"].apply(lambda text : standardize_url(text,placeholder))"
   ]
  },
  {
   "cell_type": "markdown",
   "metadata": {},
   "source": [
    "Before the removal of stopwords, common punctuation ought to be removed, or else it could cause us to misrepresent frequencies during our stopword removal. The same must be done for character casing. However, referencing symbols @ and # must be left intact."
   ]
  },
  {
   "cell_type": "markdown",
   "metadata": {},
   "source": [
    "### __Special Character Filtering__"
   ]
  },
  {
   "cell_type": "markdown",
   "metadata": {},
   "source": [
    "For all intents and purposes, I will not classify the # or @ symbols as special characters, because they serve a specific and unique purpose within the text as user-given labels, and doing so could disrupt the structure of the dataset. Before I remove the special characters, let's get a quick visualization of how prevelant they are within the data."
   ]
  },
  {
   "cell_type": "code",
   "execution_count": 263,
   "metadata": {},
   "outputs": [
    {
     "data": {
      "image/png": "[encoded data removed]",
      "text/plain": [
       "<Figure size 640x480 with 1 Axes>"
      ]
     },
     "metadata": {},
     "output_type": "display_data"
    }
   ],
   "source": [
    "train[\"specialchar_count\"] = train['text_fixedurl'].str.count(r'[!$%^&*(),.?\":{}|<>]')\n",
    "special = train[\"specialchar_count\"]\n",
    "\n",
    "\n",
    "plt.hist(train[\"specialchar_count\"],bins = 50)\n",
    "plt.title(\"Special Character count \\n\" +\\\n",
    "          \"max specialchars: {}, min specialchars: {}\".format(special.max(),special.min()))\n",
    "plt.xlabel(\"number of special characters\")\n",
    "plt.ylabel(\"counts\")\n",
    "plt.show()"
   ]
  },
  {
   "cell_type": "markdown",
   "metadata": {},
   "source": [
    "Although many tweets do not contain special characters, there are some which have up to 54. As such, they should be removed to avoid interfering with the tokenizer for stop word removal, as well as the RNN models."
   ]
  },
  {
   "cell_type": "code",
   "execution_count": 264,
   "metadata": {},
   "outputs": [],
   "source": [
    "def filter_characters(text):\n",
    "    #Characters to keep, which includes alphanumeric, whitespace, @, #\n",
    "    #The carat ^ negates whatever is in the set, so re.sub() can apply for everything other than the pattern\n",
    "    to_keep = r'[^a-zA-Z0-9\\s@#]'\n",
    "\n",
    "    #Replace characters not in the pattern with an empty string, removing them\n",
    "    filtered_text = re.sub(to_keep, '', text)\n",
    "    \n",
    "    return filtered_text"
   ]
  },
  {
   "cell_type": "code",
   "execution_count": 265,
   "metadata": {},
   "outputs": [],
   "source": [
    "#filters characters\n",
    "train[\"text_nospec\"] = train[\"text_fixedurl\"].apply(filter_characters)\n",
    "test[\"text_nospec\"] = test[\"text_fixedurl\"].apply(filter_characters)"
   ]
  },
  {
   "cell_type": "code",
   "execution_count": 266,
   "metadata": {},
   "outputs": [],
   "source": [
    "#converts to lowercase\n",
    "train[\"text_nospec\"] = train[\"text_nospec\"].apply(lambda text:text.lower())\n",
    "test[\"text_nospec\"] = test[\"text_nospec\"].apply(lambda text:text.lower())"
   ]
  },
  {
   "cell_type": "markdown",
   "metadata": {},
   "source": [
    "### __Stopword Removal__"
   ]
  },
  {
   "cell_type": "markdown",
   "metadata": {},
   "source": [
    "I am using a premade set of stopwords provided by the natural language toolkit, it is fairly comprehensive and contains 179 stopwords. it also needs to be processed to remove punctuation for full compatibility with our data."
   ]
  },
  {
   "cell_type": "code",
   "execution_count": 267,
   "metadata": {},
   "outputs": [
    {
     "name": "stdout",
     "output_type": "stream",
     "text": [
      "179\n",
      "['all', 'hasnt', 'was', 'because', 'mightn', 'is', 'couldn', 'out', 'youll', 'a']\n"
     ]
    }
   ],
   "source": [
    "stop_words = set(stopwords.words(\"english\"))\n",
    "# removal of punctuation\n",
    "stop_words_nopun = [filter_characters(word) for word in stop_words]\n",
    "\n",
    "#number of them\n",
    "print(len(stop_words_nopun))\n",
    "#first 10 stopwords\n",
    "print(stop_words_nopun[:10])"
   ]
  },
  {
   "cell_type": "code",
   "execution_count": 268,
   "metadata": {},
   "outputs": [],
   "source": [
    "#helper function to remove stopword\n",
    "def drop_stopwords(text,stop_words):\n",
    "    #tokenizes text entry as sequence of seperate words, rather than a single string\n",
    "    text_tokenized = word_tokenize(text)\n",
    "    #rebuilds text entry sequence based on non-stop words\n",
    "    kept_sequence = set([word for word in text_tokenized if word not in stop_words])\n",
    "    #rejoins the sequence via whitespace to build string\n",
    "    new_string = \" \".join(kept_sequence)\n",
    "    return new_string"
   ]
  },
  {
   "cell_type": "code",
   "execution_count": 269,
   "metadata": {},
   "outputs": [],
   "source": [
    "# applies the function across the dataframe\n",
    "train[\"text_nostop\"] = train[\"text_nospec\"].apply(lambda text: drop_stopwords(text, stop_words_nopun))\n",
    "test[\"text_nostop\"] = test[\"text_nospec\"].apply(lambda text: drop_stopwords(text, stop_words_nopun))\n",
    "\n",
    "#the NLTK tokenizer adds whitespace to special characters, so this just amends that\n",
    "train[\"text_nostop\"] = train[\"text_nostop\"].apply(lambda text:text.replace(\"# \",\"#\"))\n",
    "test[\"text_nostop\"] = test[\"text_nostop\"].apply(lambda text:text.replace(\"# \",\"#\"))\n",
    "\n",
    "train[\"text_nostop\"] = train[\"text_nostop\"].apply(lambda text:text.replace(\"@ \",\"@\"))\n",
    "test[\"text_nostop\"] = test[\"text_nostop\"].apply(lambda text:text.replace(\"@ \",\"@\"))"
   ]
  },
  {
   "cell_type": "markdown",
   "metadata": {},
   "source": [
    "### __Feature injection__"
   ]
  },
  {
   "cell_type": "markdown",
   "metadata": {},
   "source": [
    "Now, I'll implement some feature injection by adding the tweet's keyword (when applicable) back into the text in the form of a hashtag at the end of the tweet."
   ]
  },
  {
   "cell_type": "code",
   "execution_count": 270,
   "metadata": {},
   "outputs": [],
   "source": [
    "#Helper function to remove the spacer from the keywords\n",
    "def remove_spacer(text):\n",
    "    spacer = '%20'\n",
    "    cleaned_text = re.sub(spacer, '', text)\n",
    "    if len(cleaned_text) > 0: #makes sure it doesn't add it to an empty string\n",
    "        cleaned_text = \"#\" + cleaned_text\n",
    "    return cleaned_text"
   ]
  },
  {
   "cell_type": "markdown",
   "metadata": {},
   "source": [
    "Preprocess keywords to remove spacer, and fill NA values with empty string"
   ]
  },
  {
   "cell_type": "code",
   "execution_count": 271,
   "metadata": {},
   "outputs": [],
   "source": [
    "#when keywords are not found, nan is present, this just makes it so they can add easier later\n",
    "train = train.fillna('')\n",
    "test = test.fillna('')\n",
    "\n",
    "# removes spacers on two-word \"keywords\"\n",
    "train[\"keyword\"] = train[\"keyword\"].apply(remove_spacer)\n",
    "test[\"keyword\"] = test[\"keyword\"].apply(remove_spacer)"
   ]
  },
  {
   "cell_type": "markdown",
   "metadata": {},
   "source": [
    "Here are a few examples of the newly composed hashtags"
   ]
  },
  {
   "cell_type": "code",
   "execution_count": 272,
   "metadata": {},
   "outputs": [
    {
     "data": {
      "text/plain": [
       "array(['', '#ablaze', '#accident', '#aftershock', '#airplaneaccident',\n",
       "       '#ambulance', '#annihilated', '#annihilation', '#apocalypse',\n",
       "       '#armageddon'], dtype=object)"
      ]
     },
     "execution_count": 272,
     "metadata": {},
     "output_type": "execute_result"
    }
   ],
   "source": [
    "train[\"keyword\"].unique()[:10]"
   ]
  },
  {
   "cell_type": "markdown",
   "metadata": {},
   "source": [
    "Finally, add add the newly made hashtags to the end of their corresponding text"
   ]
  },
  {
   "cell_type": "code",
   "execution_count": 273,
   "metadata": {},
   "outputs": [],
   "source": [
    "train[\"text_final\"] =  train[\"text_nostop\"] + \" \"+ train[\"keyword\"] \n",
    "test[\"text_final\"] = test[\"text_nostop\"] + \" \"+   test[\"keyword\"] "
   ]
  },
  {
   "cell_type": "markdown",
   "metadata": {},
   "source": [
    "With the text now fully processed, let's have a quick look at how it changes as the steps go on"
   ]
  },
  {
   "cell_type": "code",
   "execution_count": 274,
   "metadata": {},
   "outputs": [
    {
     "data": {
      "text/html": [
       "<div>\n",
       "<style scoped>\n",
       "    .dataframe tbody tr th:only-of-type {\n",
       "        vertical-align: middle;\n",
       "    }\n",
       "\n",
       "    .dataframe tbody tr th {\n",
       "        vertical-align: top;\n",
       "    }\n",
       "\n",
       "    .dataframe thead th {\n",
       "        text-align: right;\n",
       "    }\n",
       "</style>\n",
       "<table border=\"1\" class=\"dataframe\">\n",
       "  <thead>\n",
       "    <tr style=\"text-align: right;\">\n",
       "      <th></th>\n",
       "      <th>text</th>\n",
       "      <th>text_fixedurl</th>\n",
       "      <th>text_nospec</th>\n",
       "      <th>text_nostop</th>\n",
       "      <th>text_final</th>\n",
       "    </tr>\n",
       "  </thead>\n",
       "  <tbody>\n",
       "    <tr>\n",
       "      <th>0</th>\n",
       "      <td>Our Deeds are the Reason of this #earthquake M...</td>\n",
       "      <td>Our Deeds are the Reason of this #earthquake M...</td>\n",
       "      <td>our deeds are the reason of this #earthquake m...</td>\n",
       "      <td>allah reason #deeds us may earthquake forgive</td>\n",
       "      <td>allah reason #deeds us may earthquake forgive</td>\n",
       "    </tr>\n",
       "    <tr>\n",
       "      <th>1</th>\n",
       "      <td>Forest fire near La Ronge Sask. Canada</td>\n",
       "      <td>Forest fire near La Ronge Sask. Canada</td>\n",
       "      <td>forest fire near la ronge sask canada</td>\n",
       "      <td>near canada fire la sask ronge forest</td>\n",
       "      <td>near canada fire la sask ronge forest</td>\n",
       "    </tr>\n",
       "    <tr>\n",
       "      <th>2</th>\n",
       "      <td>All residents asked to 'shelter in place' are ...</td>\n",
       "      <td>All residents asked to 'shelter in place' are ...</td>\n",
       "      <td>all residents asked to shelter in place are be...</td>\n",
       "      <td>place officers asked evacuation expected resid...</td>\n",
       "      <td>place officers asked evacuation expected resid...</td>\n",
       "    </tr>\n",
       "    <tr>\n",
       "      <th>3</th>\n",
       "      <td>13,000 people receive #wildfires evacuation or...</td>\n",
       "      <td>13,000 people receive #wildfires evacuation or...</td>\n",
       "      <td>13000 people receive #wildfires evacuation ord...</td>\n",
       "      <td>wildfires #evacuation people orders receive ca...</td>\n",
       "      <td>wildfires #evacuation people orders receive ca...</td>\n",
       "    </tr>\n",
       "    <tr>\n",
       "      <th>4</th>\n",
       "      <td>Just got sent this photo from Ruby #Alaska as ...</td>\n",
       "      <td>Just got sent this photo from Ruby #Alaska as ...</td>\n",
       "      <td>just got sent this photo from ruby #alaska as ...</td>\n",
       "      <td>pours wildfires #ruby sent alaska smoke photo ...</td>\n",
       "      <td>pours wildfires #ruby sent alaska smoke photo ...</td>\n",
       "    </tr>\n",
       "  </tbody>\n",
       "</table>\n",
       "</div>"
      ],
      "text/plain": [
       "                                                text  \\\n",
       "0  Our Deeds are the Reason of this #earthquake M...   \n",
       "1             Forest fire near La Ronge Sask. Canada   \n",
       "2  All residents asked to 'shelter in place' are ...   \n",
       "3  13,000 people receive #wildfires evacuation or...   \n",
       "4  Just got sent this photo from Ruby #Alaska as ...   \n",
       "\n",
       "                                       text_fixedurl  \\\n",
       "0  Our Deeds are the Reason of this #earthquake M...   \n",
       "1             Forest fire near La Ronge Sask. Canada   \n",
       "2  All residents asked to 'shelter in place' are ...   \n",
       "3  13,000 people receive #wildfires evacuation or...   \n",
       "4  Just got sent this photo from Ruby #Alaska as ...   \n",
       "\n",
       "                                         text_nospec  \\\n",
       "0  our deeds are the reason of this #earthquake m...   \n",
       "1              forest fire near la ronge sask canada   \n",
       "2  all residents asked to shelter in place are be...   \n",
       "3  13000 people receive #wildfires evacuation ord...   \n",
       "4  just got sent this photo from ruby #alaska as ...   \n",
       "\n",
       "                                         text_nostop  \\\n",
       "0      allah reason #deeds us may earthquake forgive   \n",
       "1              near canada fire la sask ronge forest   \n",
       "2  place officers asked evacuation expected resid...   \n",
       "3  wildfires #evacuation people orders receive ca...   \n",
       "4  pours wildfires #ruby sent alaska smoke photo ...   \n",
       "\n",
       "                                          text_final  \n",
       "0     allah reason #deeds us may earthquake forgive   \n",
       "1             near canada fire la sask ronge forest   \n",
       "2  place officers asked evacuation expected resid...  \n",
       "3  wildfires #evacuation people orders receive ca...  \n",
       "4  pours wildfires #ruby sent alaska smoke photo ...  "
      ]
     },
     "execution_count": 274,
     "metadata": {},
     "output_type": "execute_result"
    }
   ],
   "source": [
    "textdf = pd.DataFrame({})\n",
    "for key in train.keys():\n",
    "    if \"text\" in key:\n",
    "        textdf[key] = train[key]\n",
    "textdf.head()"
   ]
  },
  {
   "cell_type": "markdown",
   "metadata": {},
   "source": [
    "## __RNN Model Architecture__"
   ]
  },
  {
   "cell_type": "code",
   "execution_count": 275,
   "metadata": {},
   "outputs": [],
   "source": [
    "# set random seed for training\n",
    "tf.random.set_seed(42)"
   ]
  },
  {
   "cell_type": "markdown",
   "metadata": {},
   "source": [
    "Below is the general architecture that I chose for this problem. First let's go over the embedding.\n",
    "\n",
    "I chose an input dimension of 5000, and an output dimension of 500, which allowed most of the models enough wiggle room to not overfit immediately. Uniform embedding was chosen as it's an effective simple starting point in the earlier training. It has a larger spread across parameter space, which could explain why it seemed to outperform the other options.\n",
    " seemed to generally outperform the others, which can likely be attributed to it's large spread across parameter space, which could allow the model to \n",
    "\n",
    "The below code takes in a list \"architecture\", and creates Bidirectional LSTM layers with however many units are specified within that particular element within the list. It makes explaining separate models separately easier, when the architectural things varying between them are their LSTM layers. I chose Bidirectional Long Short-Term Memory (LSTM) as my model due to it's generally higher flexibility and track record of high performance. Making the layers Bidirectional over single directional allows for improved context within the string, which can be very important for NLP, where a particular word's meaning will change depending on what is before and after it (context).\n",
    "\n",
    " I was originally concerned about the computational cost of it, but once I managed to properly set up my GPU with tensorflow it was no longer an issue. \n",
    "\n",
    " These are the \"architectures\" I will cover in this section (each list element e represents an LSTM layer with units=e):\n",
    "\n",
    "-Model 1: Funneling [64,8]\n",
    "\n",
    "-Model 2: Inverted Funneling [8,64]\n",
    "\n",
    "-Model 3: Pyramid [8,64,8]\n",
    "\n",
    "-Model 4: High-Feature [128,128,128]\n",
    "\n",
    "-Model 5: Low Feature [4]"
   ]
  },
  {
   "cell_type": "code",
   "execution_count": 301,
   "metadata": {},
   "outputs": [],
   "source": [
    "def make_RNN_model(train,labels,architecture,learning_rate,max_sequence_length,epochs):\n",
    "    optimizer = Adam(learning_rate=learning_rate)\n",
    "    \n",
    "    model = Sequential()\n",
    "    model.add(Embedding(input_dim=5000,output_dim=500,\\\n",
    "        input_length=max_sequence_length,embeddings_initializer=\"uniform\"))\n",
    "        \n",
    "    for i,arc in enumerate(architecture):\n",
    "\n",
    "        if i+1 == len(architecture):\n",
    "            seq_ret = False\n",
    "        \n",
    "        else:\n",
    "            seq_ret = True\n",
    "\n",
    "        model.add(Bidirectional(LSTM(units = arc, return_sequences=seq_ret)))\n",
    "\n",
    "\n",
    "\n",
    "    model.add(Dense(1, activation='sigmoid'))\n",
    "    model.compile(optimizer=optimizer, loss='binary_crossentropy', metrics=['accuracy'])\n",
    "    history = model.fit(train, labels, epochs=epochs, batch_size=30, validation_split=0.2)\n",
    "    return history"
   ]
  },
  {
   "cell_type": "code",
   "execution_count": 302,
   "metadata": {},
   "outputs": [],
   "source": [
    "#convert data into format usable by the model\n",
    "tweets_train = train[\"text_final\"].tolist()\n",
    "tweets_test = test[\"text_final\"].tolist()\n",
    "labels = np.array(train[\"target\"].tolist())"
   ]
  },
  {
   "cell_type": "markdown",
   "metadata": {},
   "source": [
    "Here is the tokenizer needed to process text for feeding into model"
   ]
  },
  {
   "cell_type": "code",
   "execution_count": 303,
   "metadata": {},
   "outputs": [],
   "source": [
    "# Tokenize text, match input dimensions\n",
    "tokenizer = Tokenizer(num_words = 5000)  # Adjust num_words based on vocabulary size\n",
    "#fits tokenizer to training data\n",
    "tokenizer.fit_on_texts(tweets_train)\n",
    "\n",
    "#applies it to test and training data\n",
    "train_sequences = tokenizer.texts_to_sequences(tweets_train)\n",
    "test_sequences = tokenizer.texts_to_sequences(tweets_test)\n",
    "\n",
    "# find max tweet length for padding\n",
    "max_sequence_length = max(train[\"text_final\"].apply(len))\n",
    "\n",
    "#pads tweet strings to have equal length for model training \n",
    "train_padded = pad_sequences(train_sequences,maxlen = max_sequence_length)\n",
    "test_padded = pad_sequences(test_sequences,maxlen = max_sequence_length)"
   ]
  },
  {
   "cell_type": "markdown",
   "metadata": {},
   "source": [
    "### Model 1: Funneling [64,8]"
   ]
  },
  {
   "cell_type": "markdown",
   "metadata": {},
   "source": [
    "This model has a \"Funneling\" type of architecture, where the number of units are lowered between layers, forcing to the model focus on the more important features found by the earlier, feature-rich layers. \n",
    "\n",
    "Although I wanted my different funneling-type schemes to have a more gradual feature reduction, X8 unit reduction seemed to be the cleanest tradeoff in terms of training time, performance, and lack of overfitting."
   ]
  },
  {
   "cell_type": "code",
   "execution_count": 304,
   "metadata": {},
   "outputs": [
    {
     "name": "stdout",
     "output_type": "stream",
     "text": [
      "Epoch 1/10\n",
      "203/203 [==============================] - 10s 36ms/step - loss: 0.6730 - accuracy: 0.5793 - val_loss: 0.6756 - val_accuracy: 0.5345\n",
      "Epoch 2/10\n",
      "203/203 [==============================] - 7s 33ms/step - loss: 0.6312 - accuracy: 0.6524 - val_loss: 0.6009 - val_accuracy: 0.7255\n",
      "Epoch 3/10\n",
      "203/203 [==============================] - 7s 32ms/step - loss: 0.4801 - accuracy: 0.8066 - val_loss: 0.5020 - val_accuracy: 0.7800\n",
      "Epoch 4/10\n",
      "203/203 [==============================] - 7s 33ms/step - loss: 0.3984 - accuracy: 0.8502 - val_loss: 0.5103 - val_accuracy: 0.7754\n",
      "Epoch 5/10\n",
      "203/203 [==============================] - 7s 33ms/step - loss: 0.3536 - accuracy: 0.8718 - val_loss: 0.5035 - val_accuracy: 0.7741\n",
      "Epoch 6/10\n",
      "203/203 [==============================] - 7s 33ms/step - loss: 0.3268 - accuracy: 0.8796 - val_loss: 0.5053 - val_accuracy: 0.7840\n",
      "Epoch 7/10\n",
      "203/203 [==============================] - 7s 33ms/step - loss: 0.3089 - accuracy: 0.8941 - val_loss: 0.5341 - val_accuracy: 0.7708\n",
      "Epoch 8/10\n",
      "203/203 [==============================] - 7s 33ms/step - loss: 0.2913 - accuracy: 0.9048 - val_loss: 0.5367 - val_accuracy: 0.7748\n",
      "Epoch 9/10\n",
      "203/203 [==============================] - 7s 33ms/step - loss: 0.2769 - accuracy: 0.9138 - val_loss: 0.5504 - val_accuracy: 0.7702\n",
      "Epoch 10/10\n",
      "203/203 [==============================] - 7s 32ms/step - loss: 0.2688 - accuracy: 0.9169 - val_loss: 0.5645 - val_accuracy: 0.7689\n"
     ]
    }
   ],
   "source": [
    "#model 1 architecture\n",
    "model1_arc = [64,8]\n",
    "epochs = 10\n",
    "#solid learning rate for architecture\n",
    "learning_rate = 0.00005\n",
    "#make the model\n",
    "model1 = make_RNN_model(train_padded,labels,model1_arc,learning_rate,max_sequence_length,epochs)"
   ]
  },
  {
   "cell_type": "markdown",
   "metadata": {},
   "source": [
    "### Model 2: Inverted Funneling [8,64]"
   ]
  },
  {
   "cell_type": "markdown",
   "metadata": {},
   "source": [
    "This model has a \"Inverted Funneling\" type of architecture, where the number of units are raised between layers. The initial layer has relatively few features, acting as a kind of compression for the model, which forces the rest of the model to work with only on the more obvious, prominent features throughout the data, rather than the more nuanced, complex ones found with regular funnelling architectures."
   ]
  },
  {
   "cell_type": "code",
   "execution_count": 305,
   "metadata": {},
   "outputs": [
    {
     "name": "stdout",
     "output_type": "stream",
     "text": [
      "Epoch 1/10\n",
      "203/203 [==============================] - 10s 35ms/step - loss: 0.6794 - accuracy: 0.5793 - val_loss: 0.6860 - val_accuracy: 0.5345\n",
      "Epoch 2/10\n",
      "203/203 [==============================] - 6s 31ms/step - loss: 0.6527 - accuracy: 0.5924 - val_loss: 0.6366 - val_accuracy: 0.7157\n",
      "Epoch 3/10\n",
      "203/203 [==============================] - 6s 31ms/step - loss: 0.5273 - accuracy: 0.7683 - val_loss: 0.5012 - val_accuracy: 0.7840\n",
      "Epoch 4/10\n",
      "203/203 [==============================] - 6s 31ms/step - loss: 0.3911 - accuracy: 0.8407 - val_loss: 0.4689 - val_accuracy: 0.7833\n",
      "Epoch 5/10\n",
      "203/203 [==============================] - 6s 31ms/step - loss: 0.3394 - accuracy: 0.8706 - val_loss: 0.4553 - val_accuracy: 0.7991\n",
      "Epoch 6/10\n",
      "203/203 [==============================] - 6s 31ms/step - loss: 0.3005 - accuracy: 0.8933 - val_loss: 0.4846 - val_accuracy: 0.7820\n",
      "Epoch 7/10\n",
      "203/203 [==============================] - 6s 31ms/step - loss: 0.2727 - accuracy: 0.9064 - val_loss: 0.5147 - val_accuracy: 0.7899\n",
      "Epoch 8/10\n",
      "203/203 [==============================] - 6s 31ms/step - loss: 0.2437 - accuracy: 0.9192 - val_loss: 0.6200 - val_accuracy: 0.7439\n",
      "Epoch 9/10\n",
      "203/203 [==============================] - 6s 32ms/step - loss: 0.2266 - accuracy: 0.9258 - val_loss: 0.5826 - val_accuracy: 0.7649\n",
      "Epoch 10/10\n",
      "203/203 [==============================] - 6s 31ms/step - loss: 0.2077 - accuracy: 0.9327 - val_loss: 0.6330 - val_accuracy: 0.7505\n"
     ]
    }
   ],
   "source": [
    "#model 2 architecture\n",
    "model2_arc = [8,64]\n",
    "epochs = 10\n",
    "#solid learning rate for architecture\n",
    "learning_rate = 0.00005\n",
    "#make the model\n",
    "model2 = make_RNN_model(train_padded,labels,model2_arc,learning_rate,max_sequence_length,epochs)"
   ]
  },
  {
   "cell_type": "markdown",
   "metadata": {},
   "source": [
    "### Model 3: \"Pyramid\" [8,64,8]"
   ]
  },
  {
   "cell_type": "markdown",
   "metadata": {},
   "source": [
    "This \"Pyramid\" architecture is a combination of inverted funneling followed by funneling. It behaves much like inverted funneling, except that the final, low feature layer acts a \"summarization\" for the findings of the feature-rich middle layer, which could potentially make it perform more consistently than just the inverted funnel schema."
   ]
  },
  {
   "cell_type": "code",
   "execution_count": 306,
   "metadata": {},
   "outputs": [
    {
     "name": "stdout",
     "output_type": "stream",
     "text": [
      "Epoch 1/10\n",
      "203/203 [==============================] - 15s 50ms/step - loss: 0.6764 - accuracy: 0.5770 - val_loss: 0.6791 - val_accuracy: 0.5345\n",
      "Epoch 2/10\n",
      "203/203 [==============================] - 9s 46ms/step - loss: 0.6256 - accuracy: 0.6525 - val_loss: 0.5853 - val_accuracy: 0.7492\n",
      "Epoch 3/10\n",
      "203/203 [==============================] - 9s 45ms/step - loss: 0.4781 - accuracy: 0.8153 - val_loss: 0.5054 - val_accuracy: 0.7800\n",
      "Epoch 4/10\n",
      "203/203 [==============================] - 9s 46ms/step - loss: 0.4056 - accuracy: 0.8545 - val_loss: 0.4864 - val_accuracy: 0.7853\n",
      "Epoch 5/10\n",
      "203/203 [==============================] - 9s 45ms/step - loss: 0.3563 - accuracy: 0.8796 - val_loss: 0.4841 - val_accuracy: 0.7873\n",
      "Epoch 6/10\n",
      "203/203 [==============================] - 9s 45ms/step - loss: 0.3181 - accuracy: 0.8998 - val_loss: 0.5084 - val_accuracy: 0.7702\n",
      "Epoch 7/10\n",
      "203/203 [==============================] - 9s 45ms/step - loss: 0.2920 - accuracy: 0.9131 - val_loss: 0.5422 - val_accuracy: 0.7676\n",
      "Epoch 8/10\n",
      "203/203 [==============================] - 9s 44ms/step - loss: 0.2681 - accuracy: 0.9230 - val_loss: 0.6171 - val_accuracy: 0.7367\n",
      "Epoch 9/10\n",
      "203/203 [==============================] - 9s 45ms/step - loss: 0.2597 - accuracy: 0.9268 - val_loss: 0.5510 - val_accuracy: 0.7735\n",
      "Epoch 10/10\n",
      "203/203 [==============================] - 9s 46ms/step - loss: 0.2470 - accuracy: 0.9315 - val_loss: 0.5741 - val_accuracy: 0.7669\n"
     ]
    }
   ],
   "source": [
    "#model 3 architecture\n",
    "model3_arc = [8,64,8]\n",
    "epochs = 10\n",
    "#solid learning rate for architecture\n",
    "learning_rate = 0.00005\n",
    "#make the model\n",
    "model3 = make_RNN_model(train_padded,labels,model3_arc,learning_rate,max_sequence_length,epochs)"
   ]
  },
  {
   "cell_type": "markdown",
   "metadata": {},
   "source": [
    "### Model 4: High-Feature [128,128,128]"
   ]
  },
  {
   "cell_type": "markdown",
   "metadata": {},
   "source": [
    "This is just a pure, feature rich RNN with 128 units for each of its three layers. Out of these models, this one should be able to capture more complex patterns than the others, given it's relatively high feature representation. With this however, comes a greater chance to overfit as well.\n",
    "\n",
    "It converges faster than the other RNNS, so a lower learning rate had to be implemented."
   ]
  },
  {
   "cell_type": "code",
   "execution_count": 307,
   "metadata": {},
   "outputs": [
    {
     "name": "stdout",
     "output_type": "stream",
     "text": [
      "Epoch 1/10\n",
      "203/203 [==============================] - 15s 57ms/step - loss: 0.6736 - accuracy: 0.5768 - val_loss: 0.6721 - val_accuracy: 0.5345\n",
      "Epoch 2/10\n",
      "203/203 [==============================] - 10s 51ms/step - loss: 0.6308 - accuracy: 0.6442 - val_loss: 0.5945 - val_accuracy: 0.6861\n",
      "Epoch 3/10\n",
      "203/203 [==============================] - 10s 51ms/step - loss: 0.4719 - accuracy: 0.7880 - val_loss: 0.4975 - val_accuracy: 0.7597\n",
      "Epoch 4/10\n",
      "203/203 [==============================] - 10s 51ms/step - loss: 0.3799 - accuracy: 0.8420 - val_loss: 0.4993 - val_accuracy: 0.7564\n",
      "Epoch 5/10\n",
      "203/203 [==============================] - 10s 52ms/step - loss: 0.3414 - accuracy: 0.8637 - val_loss: 0.4829 - val_accuracy: 0.7735\n",
      "Epoch 6/10\n",
      "203/203 [==============================] - 10s 52ms/step - loss: 0.3072 - accuracy: 0.8839 - val_loss: 0.5145 - val_accuracy: 0.7610\n",
      "Epoch 7/10\n",
      "203/203 [==============================] - 10s 51ms/step - loss: 0.2832 - accuracy: 0.8951 - val_loss: 0.5321 - val_accuracy: 0.7702\n",
      "Epoch 8/10\n",
      "203/203 [==============================] - 10s 52ms/step - loss: 0.2544 - accuracy: 0.9103 - val_loss: 0.7063 - val_accuracy: 0.7078\n",
      "Epoch 9/10\n",
      "203/203 [==============================] - 10s 51ms/step - loss: 0.2410 - accuracy: 0.9171 - val_loss: 0.6059 - val_accuracy: 0.7525\n",
      "Epoch 10/10\n",
      "203/203 [==============================] - 10s 51ms/step - loss: 0.2204 - accuracy: 0.9235 - val_loss: 0.6955 - val_accuracy: 0.7374\n"
     ]
    }
   ],
   "source": [
    "#model 4 architecture\n",
    "model4_arc = [128,128,128]\n",
    "epochs = 10\n",
    "#solid learning rate for architecture\n",
    "learning_rate = 0.000025\n",
    "#make the model\n",
    "model4 = make_RNN_model(train_padded,labels,model4_arc,learning_rate,max_sequence_length,epochs)"
   ]
  },
  {
   "cell_type": "markdown",
   "metadata": {},
   "source": [
    "### Model 5: Low-Feature [4]"
   ]
  },
  {
   "cell_type": "markdown",
   "metadata": {},
   "source": [
    "This is a very low-feature RNN that features only a single layer with 4 units. High performance of this model could imply simplicity in the dataset."
   ]
  },
  {
   "cell_type": "code",
   "execution_count": 308,
   "metadata": {},
   "outputs": [
    {
     "name": "stdout",
     "output_type": "stream",
     "text": [
      "Epoch 1/10\n",
      "203/203 [==============================] - 5s 18ms/step - loss: 0.6826 - accuracy: 0.5747 - val_loss: 0.6870 - val_accuracy: 0.5345\n",
      "Epoch 2/10\n",
      "203/203 [==============================] - 3s 17ms/step - loss: 0.6623 - accuracy: 0.5793 - val_loss: 0.6748 - val_accuracy: 0.5345\n",
      "Epoch 3/10\n",
      "203/203 [==============================] - 3s 17ms/step - loss: 0.6295 - accuracy: 0.6099 - val_loss: 0.6499 - val_accuracy: 0.5732\n",
      "Epoch 4/10\n",
      "203/203 [==============================] - 3s 17ms/step - loss: 0.5869 - accuracy: 0.7619 - val_loss: 0.6248 - val_accuracy: 0.7078\n",
      "Epoch 5/10\n",
      "203/203 [==============================] - 3s 17ms/step - loss: 0.5431 - accuracy: 0.8263 - val_loss: 0.6038 - val_accuracy: 0.7485\n",
      "Epoch 6/10\n",
      "203/203 [==============================] - 3s 17ms/step - loss: 0.4992 - accuracy: 0.8509 - val_loss: 0.5869 - val_accuracy: 0.7774\n",
      "Epoch 7/10\n",
      "203/203 [==============================] - 3s 17ms/step - loss: 0.4568 - accuracy: 0.8693 - val_loss: 0.5736 - val_accuracy: 0.7846\n",
      "Epoch 8/10\n",
      "203/203 [==============================] - 3s 16ms/step - loss: 0.4182 - accuracy: 0.8846 - val_loss: 0.5628 - val_accuracy: 0.7787\n",
      "Epoch 9/10\n",
      "203/203 [==============================] - 3s 16ms/step - loss: 0.3841 - accuracy: 0.8977 - val_loss: 0.5577 - val_accuracy: 0.7676\n",
      "Epoch 10/10\n",
      "203/203 [==============================] - 3s 16ms/step - loss: 0.3543 - accuracy: 0.9099 - val_loss: 0.5485 - val_accuracy: 0.7584\n"
     ]
    }
   ],
   "source": [
    "#model 4 architecture\n",
    "model5_arc = [4]\n",
    "epochs = 10\n",
    "#solid learning rate for architecture\n",
    "learning_rate = 0.0001 #higher learning rate needed\n",
    "#make the model\n",
    "model5 = make_RNN_model(train_padded,labels,model5_arc,learning_rate,max_sequence_length,epochs)\n"
   ]
  },
  {
   "cell_type": "markdown",
   "metadata": {},
   "source": [
    "## Results and Analysis"
   ]
  },
  {
   "cell_type": "code",
   "execution_count": 309,
   "metadata": {},
   "outputs": [],
   "source": [
    "# create list of models made thus far, and their names\n",
    "histories = [globals()[\"model\"+str(i)] for i in range(1,6)]\n",
    "model_names = [\"Fun\",\"InvFun\",\"Pyrm\",\"Hi-Fe\",\"Lo-Fe\"]"
   ]
  },
  {
   "cell_type": "markdown",
   "metadata": {},
   "source": [
    "Below is a plot of each model's training accuracies by epoch. Thanks to the properly chosen learning rates, they all converge, but not too quickly. There seems to be an interesting trend for 4/5 of the models where their validation accuracy outperforms their training accuracy for the first few epochs. This could just be an example of these architectures capable of generalizing well given _very_ little chance to overfit. "
   ]
  },
  {
   "cell_type": "code",
   "execution_count": 310,
   "metadata": {},
   "outputs": [
    {
     "data": {
      "text/plain": [
       "<matplotlib.legend.Legend at 0x2140991f880>"
      ]
     },
     "execution_count": 310,
     "metadata": {},
     "output_type": "execute_result"
    },
    {
     "data": {
      "image/png": "[encoded data removed]",
      "text/plain": [
       "<Figure size 800x800 with 1 Axes>"
      ]
     },
     "metadata": {},
     "output_type": "display_data"
    }
   ],
   "source": [
    "plt.figure(figsize = (8,8))\n",
    "plt.title(\"Model Training Accuracy\")\n",
    "plt.xlabel(\"Epoch\")\n",
    "plt.ylabel(\"Accuracy\")\n",
    "for history in histories:\n",
    "    plt.plot(history.history[\"accuracy\"])\n",
    "\n",
    "plt.legend(model_names)"
   ]
  },
  {
   "cell_type": "markdown",
   "metadata": {},
   "source": [
    "Below are plots of the model validation accuracies per epoch. Each model actually performs surprisingly well, even the incredibly simple single-layer 4-unit RNN model.\n",
    "\n",
    "Within this range of epochs, each model's validation accuracy grows, peaks, and declines once they begin to overfit.\n",
    "\n",
    "In the plot we can see that the inverted funnel architecture was able to achieve the highest validation accuracy out of all models, followed by Pyramid, low-feature, funnel, and lastly high-feature.\n",
    "\n",
    "The high-feature model performed the worst out of all of them, having both the lowest high and lowest low over this range of epochs.\n",
    "\n",
    "Despite all of that being said, all models at their best had fairly similar performance, and all have peaks within a few percent of one another."
   ]
  },
  {
   "cell_type": "code",
   "execution_count": 313,
   "metadata": {},
   "outputs": [
    {
     "data": {
      "text/plain": [
       "<matplotlib.legend.Legend at 0x214434aefa0>"
      ]
     },
     "execution_count": 313,
     "metadata": {},
     "output_type": "execute_result"
    },
    {
     "data": {
      "image/png": "[encoded data removed]",
      "text/plain": [
       "<Figure size 800x800 with 1 Axes>"
      ]
     },
     "metadata": {},
     "output_type": "display_data"
    }
   ],
   "source": [
    "plt.figure(figsize = (8,8))\n",
    "plt.title(\"Model Validation Accuracy\")\n",
    "plt.xlabel(\"Epoch\")\n",
    "plt.ylabel(\"Accuracy\")\n",
    "for history in histories:\n",
    "    plt.plot(history.history[\"val_accuracy\"])\n",
    "\n",
    "plt.legend(model_names)"
   ]
  },
  {
   "cell_type": "markdown",
   "metadata": {},
   "source": [
    "Compiled validation accuracy results into table"
   ]
  },
  {
   "cell_type": "code",
   "execution_count": 322,
   "metadata": {},
   "outputs": [
    {
     "name": "stderr",
     "output_type": "stream",
     "text": [
      "C:\\Users\\Angel\\AppData\\Local\\Temp\\ipykernel_32648\\2834007669.py:7: FutureWarning: The frame.append method is deprecated and will be removed from pandas in a future version. Use pandas.concat instead.\n",
      "  table = table.append(va_acc)\n"
     ]
    }
   ],
   "source": [
    "epochs = np.arange(1,10,1)\n",
    "va_acc = []\n",
    "for history in histories:\n",
    "    va_acc.append(history.history[\"val_accuracy\"])\n",
    "\n",
    "table = pd.DataFrame({},columns = epochs)\n",
    "table = table.append(va_acc)\n",
    "table[\"model name\"] = model_names"
   ]
  },
  {
   "cell_type": "markdown",
   "metadata": {},
   "source": [
    "Below is a table summarizing the validation accuracies for the 5 models explored in this project, over 10 epochs (it show 10 as 0 for some reason).\n",
    "\n",
    "The best validation accuracy achieved proved to be 79.9% for epoch 4 of the Inverted Funnel Architecture, which is solid. This result handily beats the naive \"rounded average\" accuracy mentioned earlier, which would be around 57%."
   ]
  },
  {
   "cell_type": "code",
   "execution_count": 323,
   "metadata": {},
   "outputs": [
    {
     "data": {
      "text/html": [
       "<div>\n",
       "<style scoped>\n",
       "    .dataframe tbody tr th:only-of-type {\n",
       "        vertical-align: middle;\n",
       "    }\n",
       "\n",
       "    .dataframe tbody tr th {\n",
       "        vertical-align: top;\n",
       "    }\n",
       "\n",
       "    .dataframe thead th {\n",
       "        text-align: right;\n",
       "    }\n",
       "</style>\n",
       "<table border=\"1\" class=\"dataframe\">\n",
       "  <thead>\n",
       "    <tr style=\"text-align: right;\">\n",
       "      <th></th>\n",
       "      <th>1</th>\n",
       "      <th>2</th>\n",
       "      <th>3</th>\n",
       "      <th>4</th>\n",
       "      <th>5</th>\n",
       "      <th>6</th>\n",
       "      <th>7</th>\n",
       "      <th>8</th>\n",
       "      <th>9</th>\n",
       "      <th>0</th>\n",
       "      <th>model name</th>\n",
       "    </tr>\n",
       "  </thead>\n",
       "  <tbody>\n",
       "    <tr>\n",
       "      <th>0</th>\n",
       "      <td>0.725542</td>\n",
       "      <td>0.780039</td>\n",
       "      <td>0.775443</td>\n",
       "      <td>0.774130</td>\n",
       "      <td>0.783979</td>\n",
       "      <td>0.770847</td>\n",
       "      <td>0.774787</td>\n",
       "      <td>0.770190</td>\n",
       "      <td>0.768877</td>\n",
       "      <td>0.534471</td>\n",
       "      <td>Fun</td>\n",
       "    </tr>\n",
       "    <tr>\n",
       "      <th>1</th>\n",
       "      <td>0.715693</td>\n",
       "      <td>0.783979</td>\n",
       "      <td>0.783322</td>\n",
       "      <td>0.799081</td>\n",
       "      <td>0.782009</td>\n",
       "      <td>0.789888</td>\n",
       "      <td>0.743926</td>\n",
       "      <td>0.764938</td>\n",
       "      <td>0.750492</td>\n",
       "      <td>0.534471</td>\n",
       "      <td>InvFun</td>\n",
       "    </tr>\n",
       "    <tr>\n",
       "      <th>2</th>\n",
       "      <td>0.749179</td>\n",
       "      <td>0.780039</td>\n",
       "      <td>0.785292</td>\n",
       "      <td>0.787262</td>\n",
       "      <td>0.770190</td>\n",
       "      <td>0.767564</td>\n",
       "      <td>0.736704</td>\n",
       "      <td>0.773473</td>\n",
       "      <td>0.766907</td>\n",
       "      <td>0.534471</td>\n",
       "      <td>Pyrm</td>\n",
       "    </tr>\n",
       "    <tr>\n",
       "      <th>3</th>\n",
       "      <td>0.686146</td>\n",
       "      <td>0.759685</td>\n",
       "      <td>0.756402</td>\n",
       "      <td>0.773473</td>\n",
       "      <td>0.760998</td>\n",
       "      <td>0.770190</td>\n",
       "      <td>0.707814</td>\n",
       "      <td>0.752462</td>\n",
       "      <td>0.737360</td>\n",
       "      <td>0.534471</td>\n",
       "      <td>Hi-Fe</td>\n",
       "    </tr>\n",
       "    <tr>\n",
       "      <th>4</th>\n",
       "      <td>0.534471</td>\n",
       "      <td>0.573211</td>\n",
       "      <td>0.707814</td>\n",
       "      <td>0.748523</td>\n",
       "      <td>0.777413</td>\n",
       "      <td>0.784636</td>\n",
       "      <td>0.778726</td>\n",
       "      <td>0.767564</td>\n",
       "      <td>0.758372</td>\n",
       "      <td>0.534471</td>\n",
       "      <td>Lo-Fe</td>\n",
       "    </tr>\n",
       "  </tbody>\n",
       "</table>\n",
       "</div>"
      ],
      "text/plain": [
       "          1         2         3         4         5         6         7  \\\n",
       "0  0.725542  0.780039  0.775443  0.774130  0.783979  0.770847  0.774787   \n",
       "1  0.715693  0.783979  0.783322  0.799081  0.782009  0.789888  0.743926   \n",
       "2  0.749179  0.780039  0.785292  0.787262  0.770190  0.767564  0.736704   \n",
       "3  0.686146  0.759685  0.756402  0.773473  0.760998  0.770190  0.707814   \n",
       "4  0.534471  0.573211  0.707814  0.748523  0.777413  0.784636  0.778726   \n",
       "\n",
       "          8         9         0 model name  \n",
       "0  0.770190  0.768877  0.534471        Fun  \n",
       "1  0.764938  0.750492  0.534471     InvFun  \n",
       "2  0.773473  0.766907  0.534471       Pyrm  \n",
       "3  0.752462  0.737360  0.534471      Hi-Fe  \n",
       "4  0.767564  0.758372  0.534471      Lo-Fe  "
      ]
     },
     "execution_count": 323,
     "metadata": {},
     "output_type": "execute_result"
    }
   ],
   "source": [
    "table"
   ]
  },
  {
   "cell_type": "markdown",
   "metadata": {},
   "source": [
    "Generally, each model was able to peform quite well with the given dataset. However, the ones that have an initially limited capacity to recognize and represent complex patterns in the given data were the ones that actually performed the best out of them. Even the single layer, 4-unit RNN was able to exhibit superior performance to the two RNNs with the highest, and second highest feature respresentation within their first layers. \n",
    "\n",
    "These results seem to suggest that low initial feature architectures are better suited to this particular dataset, as the two relatively high-feature architectures starting at 64 and 128 performed had the second worst, and worst performance respectively. However, the lowest intial feature model did not outperform the other two, the reason being inconclusive without testing further architectures with starting units of 4.\n",
    "\n",
    "The greatest challenge that I had when working with this dataset was getting any of my models to stop from overfitting. I was originally trying architectures like [128,256,512] with learning rate of 0.001, but the validation accuracy would immedately peak at the first epoch. It was only when I scaled the feature representation of the models way back, and reduced the training rate by at least a full order of magnitude, did I see proper model convergence, as well as improved performance!\n",
    "\n",
    "## Conclusion\n",
    "\n",
    "In the end, I was happy with my model's performance for this competition, but I am disappointed that I was not able to exceed 80% validation accuracy. My kaggle score ended up being 79.3%, which agrees well with the validation data, which I am also content with.\n",
    "\n",
    "Ultimately, the performance of my models may suggest oversimplicity within the dataset, for such low-feature models to outperform higher feature models. This could make sense given the depth to which the data was cleaned. Although the cleaning was performed with the express purpose of making the data more \"understandable\" for the models, it may have made the data _too_ easy to understand. It could be that some things of importance may have been lost with all of that cleaning, and that the models as a whole, especially the higher-feature ones would perform better with a less-modified dataset.\n",
    "\n",
    "Improvements I could try in the future would be to repeat the tests performed here, but for each variant of text data made throughout the cleaning process. Doing so may help highlight when when cleaning helps the model, and when it is getting in the way, removing things that the model could have leveraged to improve."
   ]
  },
  {
   "cell_type": "markdown",
   "metadata": {},
   "source": [
    "## Extra"
   ]
  },
  {
   "cell_type": "markdown",
   "metadata": {},
   "source": [
    "Here's what I used to make my kaggle submission"
   ]
  },
  {
   "cell_type": "code",
   "execution_count": 324,
   "metadata": {},
   "outputs": [
    {
     "name": "stdout",
     "output_type": "stream",
     "text": [
      "Epoch 1/4\n",
      "203/203 [==============================] - 10s 35ms/step - loss: 0.6775 - accuracy: 0.5790 - val_loss: 0.6833 - val_accuracy: 0.5345\n",
      "Epoch 2/4\n",
      "203/203 [==============================] - 6s 31ms/step - loss: 0.6497 - accuracy: 0.5938 - val_loss: 0.6313 - val_accuracy: 0.6829\n",
      "Epoch 3/4\n",
      "203/203 [==============================] - 6s 31ms/step - loss: 0.5143 - accuracy: 0.7806 - val_loss: 0.4865 - val_accuracy: 0.7807\n",
      "Epoch 4/4\n",
      "203/203 [==============================] - 6s 31ms/step - loss: 0.3831 - accuracy: 0.8455 - val_loss: 0.4650 - val_accuracy: 0.7761\n"
     ]
    }
   ],
   "source": [
    "#model 2 architecture\n",
    "model_kag_arc = [8,64]\n",
    "epochs = 4\n",
    "#chosen learning rate for architecture\n",
    "learning_rate = 0.00005\n",
    "model_kag = make_RNN_model(train_padded,labels,model_kag_arc,learning_rate,max_sequence_length,epochs)"
   ]
  },
  {
   "cell_type": "code",
   "execution_count": 325,
   "metadata": {},
   "outputs": [
    {
     "name": "stdout",
     "output_type": "stream",
     "text": [
      "102/102 [==============================] - 2s 14ms/step\n"
     ]
    }
   ],
   "source": [
    "predictions = model_test.predict(test_padded)\n",
    "predicted_labels = np.round(predictions)\n",
    "\n",
    "out_df = pd.DataFrame({\"id\" : test[\"id\"]})\n",
    "out_df[\"target\"] = predicted_labels\n",
    "out_df.to_csv(data_dir +\"test_submission.csv\",index = False)"
   ]
  }
 ],
 "metadata": {
  "kernelspec": {
   "display_name": "tf",
   "language": "python",
   "name": "python3"
  },
  "language_info": {
   "codemirror_mode": {
    "name": "ipython",
    "version": 3
   },
   "file_extension": ".py",
   "mimetype": "text/x-python",
   "name": "python",
   "nbconvert_exporter": "python",
   "pygments_lexer": "ipython3",
   "version": "3.9.17"
  },
  "orig_nbformat": 4
 },
 "nbformat": 4,
 "nbformat_minor": 2
}
